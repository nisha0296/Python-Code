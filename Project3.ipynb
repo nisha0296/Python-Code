{
  "nbformat": 4,
  "nbformat_minor": 0,
  "metadata": {
    "colab": {
      "name": "Project3.ipynb",
      "provenance": [],
      "collapsed_sections": []
    },
    "kernelspec": {
      "name": "python3",
      "display_name": "Python 3"
    },
    "language_info": {
      "name": "python"
    }
  },
  "cells": [
    {
      "cell_type": "code",
      "execution_count": null,
      "metadata": {
        "id": "finl8yFDN2ze"
      },
      "outputs": [],
      "source": [
        "import pandas as pd"
      ]
    },
    {
      "cell_type": "code",
      "source": [
        "df=pd.read_csv(\"data_LR_train.csv\")"
      ],
      "metadata": {
        "id": "gxkZyziDOVyD"
      },
      "execution_count": null,
      "outputs": []
    },
    {
      "cell_type": "code",
      "source": [
        "df.head()"
      ],
      "metadata": {
        "colab": {
          "base_uri": "https://localhost:8080/",
          "height": 206
        },
        "id": "3oFmhEicOkS3",
        "outputId": "649f2bbc-9db1-4cfe-8449-e7e2c008bc26"
      },
      "execution_count": null,
      "outputs": [
        {
          "output_type": "execute_result",
          "data": {
            "text/plain": [
              "   Tier  FICO  Term    Amount  Previous_Rate  Competition_rate  Rate  \\\n",
              "0     1   783    36  16378.00              0              3.69  3.69   \n",
              "1     2   711    48  28322.00              0              5.49  4.89   \n",
              "2     1   773    36   9500.00              0              3.99  3.99   \n",
              "3     1   743    72  24078.00              5              6.09  4.69   \n",
              "4     1   762    72  14999.99              0              5.75  5.69   \n",
              "\n",
              "   Cost_Funds  Partner Bin  Car_Type_N  Car_Type_R  Car_Type_U  Accept  \n",
              "0      1.1200            1           1           0           0       0  \n",
              "1      1.8200            1           1           0           0       0  \n",
              "2      1.1100            3           1           0           0       0  \n",
              "3      1.1100            1           0           1           0       0  \n",
              "4      1.1463            3           0           0           1       0  "
            ],
            "text/html": [
              "\n",
              "  <div id=\"df-15285c5e-d35a-4750-9328-b95b6e86a156\">\n",
              "    <div class=\"colab-df-container\">\n",
              "      <div>\n",
              "<style scoped>\n",
              "    .dataframe tbody tr th:only-of-type {\n",
              "        vertical-align: middle;\n",
              "    }\n",
              "\n",
              "    .dataframe tbody tr th {\n",
              "        vertical-align: top;\n",
              "    }\n",
              "\n",
              "    .dataframe thead th {\n",
              "        text-align: right;\n",
              "    }\n",
              "</style>\n",
              "<table border=\"1\" class=\"dataframe\">\n",
              "  <thead>\n",
              "    <tr style=\"text-align: right;\">\n",
              "      <th></th>\n",
              "      <th>Tier</th>\n",
              "      <th>FICO</th>\n",
              "      <th>Term</th>\n",
              "      <th>Amount</th>\n",
              "      <th>Previous_Rate</th>\n",
              "      <th>Competition_rate</th>\n",
              "      <th>Rate</th>\n",
              "      <th>Cost_Funds</th>\n",
              "      <th>Partner Bin</th>\n",
              "      <th>Car_Type_N</th>\n",
              "      <th>Car_Type_R</th>\n",
              "      <th>Car_Type_U</th>\n",
              "      <th>Accept</th>\n",
              "    </tr>\n",
              "  </thead>\n",
              "  <tbody>\n",
              "    <tr>\n",
              "      <th>0</th>\n",
              "      <td>1</td>\n",
              "      <td>783</td>\n",
              "      <td>36</td>\n",
              "      <td>16378.00</td>\n",
              "      <td>0</td>\n",
              "      <td>3.69</td>\n",
              "      <td>3.69</td>\n",
              "      <td>1.1200</td>\n",
              "      <td>1</td>\n",
              "      <td>1</td>\n",
              "      <td>0</td>\n",
              "      <td>0</td>\n",
              "      <td>0</td>\n",
              "    </tr>\n",
              "    <tr>\n",
              "      <th>1</th>\n",
              "      <td>2</td>\n",
              "      <td>711</td>\n",
              "      <td>48</td>\n",
              "      <td>28322.00</td>\n",
              "      <td>0</td>\n",
              "      <td>5.49</td>\n",
              "      <td>4.89</td>\n",
              "      <td>1.8200</td>\n",
              "      <td>1</td>\n",
              "      <td>1</td>\n",
              "      <td>0</td>\n",
              "      <td>0</td>\n",
              "      <td>0</td>\n",
              "    </tr>\n",
              "    <tr>\n",
              "      <th>2</th>\n",
              "      <td>1</td>\n",
              "      <td>773</td>\n",
              "      <td>36</td>\n",
              "      <td>9500.00</td>\n",
              "      <td>0</td>\n",
              "      <td>3.99</td>\n",
              "      <td>3.99</td>\n",
              "      <td>1.1100</td>\n",
              "      <td>3</td>\n",
              "      <td>1</td>\n",
              "      <td>0</td>\n",
              "      <td>0</td>\n",
              "      <td>0</td>\n",
              "    </tr>\n",
              "    <tr>\n",
              "      <th>3</th>\n",
              "      <td>1</td>\n",
              "      <td>743</td>\n",
              "      <td>72</td>\n",
              "      <td>24078.00</td>\n",
              "      <td>5</td>\n",
              "      <td>6.09</td>\n",
              "      <td>4.69</td>\n",
              "      <td>1.1100</td>\n",
              "      <td>1</td>\n",
              "      <td>0</td>\n",
              "      <td>1</td>\n",
              "      <td>0</td>\n",
              "      <td>0</td>\n",
              "    </tr>\n",
              "    <tr>\n",
              "      <th>4</th>\n",
              "      <td>1</td>\n",
              "      <td>762</td>\n",
              "      <td>72</td>\n",
              "      <td>14999.99</td>\n",
              "      <td>0</td>\n",
              "      <td>5.75</td>\n",
              "      <td>5.69</td>\n",
              "      <td>1.1463</td>\n",
              "      <td>3</td>\n",
              "      <td>0</td>\n",
              "      <td>0</td>\n",
              "      <td>1</td>\n",
              "      <td>0</td>\n",
              "    </tr>\n",
              "  </tbody>\n",
              "</table>\n",
              "</div>\n",
              "      <button class=\"colab-df-convert\" onclick=\"convertToInteractive('df-15285c5e-d35a-4750-9328-b95b6e86a156')\"\n",
              "              title=\"Convert this dataframe to an interactive table.\"\n",
              "              style=\"display:none;\">\n",
              "        \n",
              "  <svg xmlns=\"http://www.w3.org/2000/svg\" height=\"24px\"viewBox=\"0 0 24 24\"\n",
              "       width=\"24px\">\n",
              "    <path d=\"M0 0h24v24H0V0z\" fill=\"none\"/>\n",
              "    <path d=\"M18.56 5.44l.94 2.06.94-2.06 2.06-.94-2.06-.94-.94-2.06-.94 2.06-2.06.94zm-11 1L8.5 8.5l.94-2.06 2.06-.94-2.06-.94L8.5 2.5l-.94 2.06-2.06.94zm10 10l.94 2.06.94-2.06 2.06-.94-2.06-.94-.94-2.06-.94 2.06-2.06.94z\"/><path d=\"M17.41 7.96l-1.37-1.37c-.4-.4-.92-.59-1.43-.59-.52 0-1.04.2-1.43.59L10.3 9.45l-7.72 7.72c-.78.78-.78 2.05 0 2.83L4 21.41c.39.39.9.59 1.41.59.51 0 1.02-.2 1.41-.59l7.78-7.78 2.81-2.81c.8-.78.8-2.07 0-2.86zM5.41 20L4 18.59l7.72-7.72 1.47 1.35L5.41 20z\"/>\n",
              "  </svg>\n",
              "      </button>\n",
              "      \n",
              "  <style>\n",
              "    .colab-df-container {\n",
              "      display:flex;\n",
              "      flex-wrap:wrap;\n",
              "      gap: 12px;\n",
              "    }\n",
              "\n",
              "    .colab-df-convert {\n",
              "      background-color: #E8F0FE;\n",
              "      border: none;\n",
              "      border-radius: 50%;\n",
              "      cursor: pointer;\n",
              "      display: none;\n",
              "      fill: #1967D2;\n",
              "      height: 32px;\n",
              "      padding: 0 0 0 0;\n",
              "      width: 32px;\n",
              "    }\n",
              "\n",
              "    .colab-df-convert:hover {\n",
              "      background-color: #E2EBFA;\n",
              "      box-shadow: 0px 1px 2px rgba(60, 64, 67, 0.3), 0px 1px 3px 1px rgba(60, 64, 67, 0.15);\n",
              "      fill: #174EA6;\n",
              "    }\n",
              "\n",
              "    [theme=dark] .colab-df-convert {\n",
              "      background-color: #3B4455;\n",
              "      fill: #D2E3FC;\n",
              "    }\n",
              "\n",
              "    [theme=dark] .colab-df-convert:hover {\n",
              "      background-color: #434B5C;\n",
              "      box-shadow: 0px 1px 3px 1px rgba(0, 0, 0, 0.15);\n",
              "      filter: drop-shadow(0px 1px 2px rgba(0, 0, 0, 0.3));\n",
              "      fill: #FFFFFF;\n",
              "    }\n",
              "  </style>\n",
              "\n",
              "      <script>\n",
              "        const buttonEl =\n",
              "          document.querySelector('#df-15285c5e-d35a-4750-9328-b95b6e86a156 button.colab-df-convert');\n",
              "        buttonEl.style.display =\n",
              "          google.colab.kernel.accessAllowed ? 'block' : 'none';\n",
              "\n",
              "        async function convertToInteractive(key) {\n",
              "          const element = document.querySelector('#df-15285c5e-d35a-4750-9328-b95b6e86a156');\n",
              "          const dataTable =\n",
              "            await google.colab.kernel.invokeFunction('convertToInteractive',\n",
              "                                                     [key], {});\n",
              "          if (!dataTable) return;\n",
              "\n",
              "          const docLinkHtml = 'Like what you see? Visit the ' +\n",
              "            '<a target=\"_blank\" href=https://colab.research.google.com/notebooks/data_table.ipynb>data table notebook</a>'\n",
              "            + ' to learn more about interactive tables.';\n",
              "          element.innerHTML = '';\n",
              "          dataTable['output_type'] = 'display_data';\n",
              "          await google.colab.output.renderOutput(dataTable, element);\n",
              "          const docLink = document.createElement('div');\n",
              "          docLink.innerHTML = docLinkHtml;\n",
              "          element.appendChild(docLink);\n",
              "        }\n",
              "      </script>\n",
              "    </div>\n",
              "  </div>\n",
              "  "
            ]
          },
          "metadata": {},
          "execution_count": 4
        }
      ]
    },
    {
      "cell_type": "code",
      "source": [
        "df1=pd.read_csv(\"data_LR_test.csv\")"
      ],
      "metadata": {
        "id": "CvKO1_CsPEkU"
      },
      "execution_count": null,
      "outputs": []
    },
    {
      "cell_type": "code",
      "source": [
        "df.shape"
      ],
      "metadata": {
        "colab": {
          "base_uri": "https://localhost:8080/"
        },
        "id": "ERRt8TdcQ3_v",
        "outputId": "2980ba3d-549d-4b27-95d5-093caa8ebda4"
      },
      "execution_count": null,
      "outputs": [
        {
          "output_type": "execute_result",
          "data": {
            "text/plain": [
              "(60000, 13)"
            ]
          },
          "metadata": {},
          "execution_count": 14
        }
      ]
    },
    {
      "cell_type": "code",
      "source": [
        "df.describe()"
      ],
      "metadata": {
        "colab": {
          "base_uri": "https://localhost:8080/",
          "height": 364
        },
        "id": "n8WH5bqLRX3N",
        "outputId": "2301ed0b-f636-4339-a83f-f8cf6778ef01"
      },
      "execution_count": null,
      "outputs": [
        {
          "output_type": "execute_result",
          "data": {
            "text/plain": [
              "               Tier          FICO          Term         Amount  Previous_Rate  \\\n",
              "count  60000.000000  60000.000000  60000.000000   60000.000000   60000.000000   \n",
              "mean       1.927700    726.736333     56.827100   25945.833244       1.735150   \n",
              "std        1.050551     44.812707     11.195901   11129.274156       3.464906   \n",
              "min        1.000000    601.000000     36.000000    4526.620000       0.000000   \n",
              "25%        1.000000    692.000000     48.000000   17653.400000       0.000000   \n",
              "50%        2.000000    726.000000     60.000000   25000.000000       0.000000   \n",
              "75%        3.000000    762.000000     60.000000   33000.000000       0.000000   \n",
              "max        4.000000    852.000000     72.000000  100000.000000      24.000000   \n",
              "\n",
              "       Competition_rate          Rate   Cost_Funds   Partner Bin  \\\n",
              "count      60000.000000  60000.000000  60000.00000  60000.000000   \n",
              "mean           4.810375      5.624450      1.33084      2.032067   \n",
              "std            0.585542      1.544556      0.27949      0.910505   \n",
              "min            2.990000      2.450000      1.02000      1.000000   \n",
              "25%            4.390000      4.490000      1.11000      1.000000   \n",
              "50%            4.790000      5.090000      1.26380      2.000000   \n",
              "75%            5.190000      6.390000      1.41940      3.000000   \n",
              "max            6.450000     12.990000      2.12700      3.000000   \n",
              "\n",
              "         Car_Type_N    Car_Type_R    Car_Type_U        Accept  \n",
              "count  60000.000000  60000.000000  60000.000000  60000.000000  \n",
              "mean       0.570917      0.227500      0.201583      0.221717  \n",
              "std        0.494949      0.419222      0.401186      0.415405  \n",
              "min        0.000000      0.000000      0.000000      0.000000  \n",
              "25%        0.000000      0.000000      0.000000      0.000000  \n",
              "50%        1.000000      0.000000      0.000000      0.000000  \n",
              "75%        1.000000      0.000000      0.000000      0.000000  \n",
              "max        1.000000      1.000000      1.000000      1.000000  "
            ],
            "text/html": [
              "\n",
              "  <div id=\"df-023fcd96-e6c6-4bc3-9c1f-df403d7bcc7f\">\n",
              "    <div class=\"colab-df-container\">\n",
              "      <div>\n",
              "<style scoped>\n",
              "    .dataframe tbody tr th:only-of-type {\n",
              "        vertical-align: middle;\n",
              "    }\n",
              "\n",
              "    .dataframe tbody tr th {\n",
              "        vertical-align: top;\n",
              "    }\n",
              "\n",
              "    .dataframe thead th {\n",
              "        text-align: right;\n",
              "    }\n",
              "</style>\n",
              "<table border=\"1\" class=\"dataframe\">\n",
              "  <thead>\n",
              "    <tr style=\"text-align: right;\">\n",
              "      <th></th>\n",
              "      <th>Tier</th>\n",
              "      <th>FICO</th>\n",
              "      <th>Term</th>\n",
              "      <th>Amount</th>\n",
              "      <th>Previous_Rate</th>\n",
              "      <th>Competition_rate</th>\n",
              "      <th>Rate</th>\n",
              "      <th>Cost_Funds</th>\n",
              "      <th>Partner Bin</th>\n",
              "      <th>Car_Type_N</th>\n",
              "      <th>Car_Type_R</th>\n",
              "      <th>Car_Type_U</th>\n",
              "      <th>Accept</th>\n",
              "    </tr>\n",
              "  </thead>\n",
              "  <tbody>\n",
              "    <tr>\n",
              "      <th>count</th>\n",
              "      <td>60000.000000</td>\n",
              "      <td>60000.000000</td>\n",
              "      <td>60000.000000</td>\n",
              "      <td>60000.000000</td>\n",
              "      <td>60000.000000</td>\n",
              "      <td>60000.000000</td>\n",
              "      <td>60000.000000</td>\n",
              "      <td>60000.00000</td>\n",
              "      <td>60000.000000</td>\n",
              "      <td>60000.000000</td>\n",
              "      <td>60000.000000</td>\n",
              "      <td>60000.000000</td>\n",
              "      <td>60000.000000</td>\n",
              "    </tr>\n",
              "    <tr>\n",
              "      <th>mean</th>\n",
              "      <td>1.927700</td>\n",
              "      <td>726.736333</td>\n",
              "      <td>56.827100</td>\n",
              "      <td>25945.833244</td>\n",
              "      <td>1.735150</td>\n",
              "      <td>4.810375</td>\n",
              "      <td>5.624450</td>\n",
              "      <td>1.33084</td>\n",
              "      <td>2.032067</td>\n",
              "      <td>0.570917</td>\n",
              "      <td>0.227500</td>\n",
              "      <td>0.201583</td>\n",
              "      <td>0.221717</td>\n",
              "    </tr>\n",
              "    <tr>\n",
              "      <th>std</th>\n",
              "      <td>1.050551</td>\n",
              "      <td>44.812707</td>\n",
              "      <td>11.195901</td>\n",
              "      <td>11129.274156</td>\n",
              "      <td>3.464906</td>\n",
              "      <td>0.585542</td>\n",
              "      <td>1.544556</td>\n",
              "      <td>0.27949</td>\n",
              "      <td>0.910505</td>\n",
              "      <td>0.494949</td>\n",
              "      <td>0.419222</td>\n",
              "      <td>0.401186</td>\n",
              "      <td>0.415405</td>\n",
              "    </tr>\n",
              "    <tr>\n",
              "      <th>min</th>\n",
              "      <td>1.000000</td>\n",
              "      <td>601.000000</td>\n",
              "      <td>36.000000</td>\n",
              "      <td>4526.620000</td>\n",
              "      <td>0.000000</td>\n",
              "      <td>2.990000</td>\n",
              "      <td>2.450000</td>\n",
              "      <td>1.02000</td>\n",
              "      <td>1.000000</td>\n",
              "      <td>0.000000</td>\n",
              "      <td>0.000000</td>\n",
              "      <td>0.000000</td>\n",
              "      <td>0.000000</td>\n",
              "    </tr>\n",
              "    <tr>\n",
              "      <th>25%</th>\n",
              "      <td>1.000000</td>\n",
              "      <td>692.000000</td>\n",
              "      <td>48.000000</td>\n",
              "      <td>17653.400000</td>\n",
              "      <td>0.000000</td>\n",
              "      <td>4.390000</td>\n",
              "      <td>4.490000</td>\n",
              "      <td>1.11000</td>\n",
              "      <td>1.000000</td>\n",
              "      <td>0.000000</td>\n",
              "      <td>0.000000</td>\n",
              "      <td>0.000000</td>\n",
              "      <td>0.000000</td>\n",
              "    </tr>\n",
              "    <tr>\n",
              "      <th>50%</th>\n",
              "      <td>2.000000</td>\n",
              "      <td>726.000000</td>\n",
              "      <td>60.000000</td>\n",
              "      <td>25000.000000</td>\n",
              "      <td>0.000000</td>\n",
              "      <td>4.790000</td>\n",
              "      <td>5.090000</td>\n",
              "      <td>1.26380</td>\n",
              "      <td>2.000000</td>\n",
              "      <td>1.000000</td>\n",
              "      <td>0.000000</td>\n",
              "      <td>0.000000</td>\n",
              "      <td>0.000000</td>\n",
              "    </tr>\n",
              "    <tr>\n",
              "      <th>75%</th>\n",
              "      <td>3.000000</td>\n",
              "      <td>762.000000</td>\n",
              "      <td>60.000000</td>\n",
              "      <td>33000.000000</td>\n",
              "      <td>0.000000</td>\n",
              "      <td>5.190000</td>\n",
              "      <td>6.390000</td>\n",
              "      <td>1.41940</td>\n",
              "      <td>3.000000</td>\n",
              "      <td>1.000000</td>\n",
              "      <td>0.000000</td>\n",
              "      <td>0.000000</td>\n",
              "      <td>0.000000</td>\n",
              "    </tr>\n",
              "    <tr>\n",
              "      <th>max</th>\n",
              "      <td>4.000000</td>\n",
              "      <td>852.000000</td>\n",
              "      <td>72.000000</td>\n",
              "      <td>100000.000000</td>\n",
              "      <td>24.000000</td>\n",
              "      <td>6.450000</td>\n",
              "      <td>12.990000</td>\n",
              "      <td>2.12700</td>\n",
              "      <td>3.000000</td>\n",
              "      <td>1.000000</td>\n",
              "      <td>1.000000</td>\n",
              "      <td>1.000000</td>\n",
              "      <td>1.000000</td>\n",
              "    </tr>\n",
              "  </tbody>\n",
              "</table>\n",
              "</div>\n",
              "      <button class=\"colab-df-convert\" onclick=\"convertToInteractive('df-023fcd96-e6c6-4bc3-9c1f-df403d7bcc7f')\"\n",
              "              title=\"Convert this dataframe to an interactive table.\"\n",
              "              style=\"display:none;\">\n",
              "        \n",
              "  <svg xmlns=\"http://www.w3.org/2000/svg\" height=\"24px\"viewBox=\"0 0 24 24\"\n",
              "       width=\"24px\">\n",
              "    <path d=\"M0 0h24v24H0V0z\" fill=\"none\"/>\n",
              "    <path d=\"M18.56 5.44l.94 2.06.94-2.06 2.06-.94-2.06-.94-.94-2.06-.94 2.06-2.06.94zm-11 1L8.5 8.5l.94-2.06 2.06-.94-2.06-.94L8.5 2.5l-.94 2.06-2.06.94zm10 10l.94 2.06.94-2.06 2.06-.94-2.06-.94-.94-2.06-.94 2.06-2.06.94z\"/><path d=\"M17.41 7.96l-1.37-1.37c-.4-.4-.92-.59-1.43-.59-.52 0-1.04.2-1.43.59L10.3 9.45l-7.72 7.72c-.78.78-.78 2.05 0 2.83L4 21.41c.39.39.9.59 1.41.59.51 0 1.02-.2 1.41-.59l7.78-7.78 2.81-2.81c.8-.78.8-2.07 0-2.86zM5.41 20L4 18.59l7.72-7.72 1.47 1.35L5.41 20z\"/>\n",
              "  </svg>\n",
              "      </button>\n",
              "      \n",
              "  <style>\n",
              "    .colab-df-container {\n",
              "      display:flex;\n",
              "      flex-wrap:wrap;\n",
              "      gap: 12px;\n",
              "    }\n",
              "\n",
              "    .colab-df-convert {\n",
              "      background-color: #E8F0FE;\n",
              "      border: none;\n",
              "      border-radius: 50%;\n",
              "      cursor: pointer;\n",
              "      display: none;\n",
              "      fill: #1967D2;\n",
              "      height: 32px;\n",
              "      padding: 0 0 0 0;\n",
              "      width: 32px;\n",
              "    }\n",
              "\n",
              "    .colab-df-convert:hover {\n",
              "      background-color: #E2EBFA;\n",
              "      box-shadow: 0px 1px 2px rgba(60, 64, 67, 0.3), 0px 1px 3px 1px rgba(60, 64, 67, 0.15);\n",
              "      fill: #174EA6;\n",
              "    }\n",
              "\n",
              "    [theme=dark] .colab-df-convert {\n",
              "      background-color: #3B4455;\n",
              "      fill: #D2E3FC;\n",
              "    }\n",
              "\n",
              "    [theme=dark] .colab-df-convert:hover {\n",
              "      background-color: #434B5C;\n",
              "      box-shadow: 0px 1px 3px 1px rgba(0, 0, 0, 0.15);\n",
              "      filter: drop-shadow(0px 1px 2px rgba(0, 0, 0, 0.3));\n",
              "      fill: #FFFFFF;\n",
              "    }\n",
              "  </style>\n",
              "\n",
              "      <script>\n",
              "        const buttonEl =\n",
              "          document.querySelector('#df-023fcd96-e6c6-4bc3-9c1f-df403d7bcc7f button.colab-df-convert');\n",
              "        buttonEl.style.display =\n",
              "          google.colab.kernel.accessAllowed ? 'block' : 'none';\n",
              "\n",
              "        async function convertToInteractive(key) {\n",
              "          const element = document.querySelector('#df-023fcd96-e6c6-4bc3-9c1f-df403d7bcc7f');\n",
              "          const dataTable =\n",
              "            await google.colab.kernel.invokeFunction('convertToInteractive',\n",
              "                                                     [key], {});\n",
              "          if (!dataTable) return;\n",
              "\n",
              "          const docLinkHtml = 'Like what you see? Visit the ' +\n",
              "            '<a target=\"_blank\" href=https://colab.research.google.com/notebooks/data_table.ipynb>data table notebook</a>'\n",
              "            + ' to learn more about interactive tables.';\n",
              "          element.innerHTML = '';\n",
              "          dataTable['output_type'] = 'display_data';\n",
              "          await google.colab.output.renderOutput(dataTable, element);\n",
              "          const docLink = document.createElement('div');\n",
              "          docLink.innerHTML = docLinkHtml;\n",
              "          element.appendChild(docLink);\n",
              "        }\n",
              "      </script>\n",
              "    </div>\n",
              "  </div>\n",
              "  "
            ]
          },
          "metadata": {},
          "execution_count": 15
        }
      ]
    },
    {
      "cell_type": "code",
      "source": [
        "df.isnull().sum()"
      ],
      "metadata": {
        "colab": {
          "base_uri": "https://localhost:8080/"
        },
        "id": "5pXTgFaaRkIg",
        "outputId": "d07fb8b8-3a2e-4537-be32-458bc3552649"
      },
      "execution_count": null,
      "outputs": [
        {
          "output_type": "execute_result",
          "data": {
            "text/plain": [
              "Tier                0\n",
              "FICO                0\n",
              "Term                0\n",
              "Amount              0\n",
              "Previous_Rate       0\n",
              "Competition_rate    0\n",
              "Rate                0\n",
              "Cost_Funds          0\n",
              "Partner Bin         0\n",
              "Car_Type_N          0\n",
              "Car_Type_R          0\n",
              "Car_Type_U          0\n",
              "Accept              0\n",
              "dtype: int64"
            ]
          },
          "metadata": {},
          "execution_count": 16
        }
      ]
    },
    {
      "cell_type": "code",
      "source": [
        "df['Accept'].value_counts(normalize=True)"
      ],
      "metadata": {
        "colab": {
          "base_uri": "https://localhost:8080/"
        },
        "id": "JfTW5Xt3SfDq",
        "outputId": "e45325c7-4991-47ce-b270-106008ba6f2a"
      },
      "execution_count": null,
      "outputs": [
        {
          "output_type": "execute_result",
          "data": {
            "text/plain": [
              "0    0.778283\n",
              "1    0.221717\n",
              "Name: Accept, dtype: float64"
            ]
          },
          "metadata": {},
          "execution_count": 5
        }
      ]
    },
    {
      "cell_type": "code",
      "source": [
        "df.columns"
      ],
      "metadata": {
        "colab": {
          "base_uri": "https://localhost:8080/"
        },
        "id": "zm5ucwLKTxYT",
        "outputId": "60427d4a-c829-4bf0-b906-c2b24204e846"
      },
      "execution_count": null,
      "outputs": [
        {
          "output_type": "execute_result",
          "data": {
            "text/plain": [
              "Index(['Tier', 'FICO', 'Term', 'Amount', 'Previous_Rate', 'Competition_rate',\n",
              "       'Rate', 'Cost_Funds', 'Partner Bin', 'Car_Type_N', 'Car_Type_R',\n",
              "       'Car_Type_U', 'Accept'],\n",
              "      dtype='object')"
            ]
          },
          "metadata": {},
          "execution_count": 6
        }
      ]
    },
    {
      "cell_type": "code",
      "source": [
        "features=['Tier', 'FICO', 'Term', 'Amount', 'Previous_Rate', 'Competition_rate',\n",
        "       'Rate', 'Cost_Funds', 'Partner Bin', 'Car_Type_N', 'Car_Type_R',\n",
        "       'Car_Type_U']"
      ],
      "metadata": {
        "id": "Sn1yZBxcT4DT"
      },
      "execution_count": null,
      "outputs": []
    },
    {
      "cell_type": "code",
      "source": [
        "target=['Accept']"
      ],
      "metadata": {
        "id": "8F2WSkRkT802"
      },
      "execution_count": null,
      "outputs": []
    },
    {
      "cell_type": "code",
      "source": [
        "x_train=df[features]\n",
        "y_train=df[target]\n",
        "print(x_train.shape,y_train.shape)"
      ],
      "metadata": {
        "colab": {
          "base_uri": "https://localhost:8080/"
        },
        "id": "B4ec3ecbUAAQ",
        "outputId": "1b30ee2d-031f-4670-d639-50c5fa6c71a4"
      },
      "execution_count": null,
      "outputs": [
        {
          "output_type": "stream",
          "name": "stdout",
          "text": [
            "(60000, 12) (60000, 1)\n"
          ]
        }
      ]
    },
    {
      "cell_type": "code",
      "source": [
        "df1.isnull().sum()"
      ],
      "metadata": {
        "colab": {
          "base_uri": "https://localhost:8080/"
        },
        "id": "vVewu4G2UeKz",
        "outputId": "6aba0b45-3258-40b5-9fea-70320d3c9f68"
      },
      "execution_count": null,
      "outputs": [
        {
          "output_type": "execute_result",
          "data": {
            "text/plain": [
              "Unnamed: 0          0\n",
              "Tier                0\n",
              "FICO                0\n",
              "Term                0\n",
              "Amount              0\n",
              "Previous_Rate       0\n",
              "Competition_rate    0\n",
              "Rate                0\n",
              "Cost_Funds          0\n",
              "Partner Bin         0\n",
              "Car_Type_N          0\n",
              "Car_Type_R          0\n",
              "Car_Type_U          0\n",
              "Accept              0\n",
              "dtype: int64"
            ]
          },
          "metadata": {},
          "execution_count": 24
        }
      ]
    },
    {
      "cell_type": "code",
      "source": [
        "x_test=df1[features]\n",
        "y_test=df1[target]\n",
        "print(x_test.shape,y_test.shape)"
      ],
      "metadata": {
        "colab": {
          "base_uri": "https://localhost:8080/"
        },
        "id": "molT94r9Up8f",
        "outputId": "bbfbacd2-f9c0-4b15-cfb5-28996fa94691"
      },
      "execution_count": null,
      "outputs": [
        {
          "output_type": "stream",
          "name": "stdout",
          "text": [
            "(25000, 12) (25000, 1)\n"
          ]
        }
      ]
    },
    {
      "cell_type": "code",
      "source": [
        "from sklearn.linear_model import LogisticRegression"
      ],
      "metadata": {
        "id": "iL3uUrOGXZDs"
      },
      "execution_count": null,
      "outputs": []
    },
    {
      "cell_type": "code",
      "source": [
        "logreg = LogisticRegression()"
      ],
      "metadata": {
        "id": "xKUNHx7HXnD8"
      },
      "execution_count": null,
      "outputs": []
    },
    {
      "cell_type": "code",
      "source": [
        "logreg.fit(x_train,y_train)"
      ],
      "metadata": {
        "colab": {
          "base_uri": "https://localhost:8080/"
        },
        "id": "FZ_WrFRkXxD_",
        "outputId": "6e83ca69-471e-4a21-ff71-3475ba9e49ac"
      },
      "execution_count": null,
      "outputs": [
        {
          "output_type": "stream",
          "name": "stderr",
          "text": [
            "/usr/local/lib/python3.7/dist-packages/sklearn/utils/validation.py:993: DataConversionWarning: A column-vector y was passed when a 1d array was expected. Please change the shape of y to (n_samples, ), for example using ravel().\n",
            "  y = column_or_1d(y, warn=True)\n"
          ]
        },
        {
          "output_type": "execute_result",
          "data": {
            "text/plain": [
              "LogisticRegression()"
            ]
          },
          "metadata": {},
          "execution_count": 13
        }
      ]
    },
    {
      "cell_type": "code",
      "source": [
        "y_pred=logreg.predict(x_test)\n",
        "print(y_pred.shape)"
      ],
      "metadata": {
        "colab": {
          "base_uri": "https://localhost:8080/"
        },
        "id": "dPgOeVmUYZeR",
        "outputId": "e3a62d23-cf22-4002-e181-1614cac82a7e"
      },
      "execution_count": null,
      "outputs": [
        {
          "output_type": "stream",
          "name": "stdout",
          "text": [
            "(25000,)\n"
          ]
        }
      ]
    },
    {
      "cell_type": "code",
      "source": [
        "from sklearn.metrics import classification_report\n",
        "from sklearn.metrics import confusion_matrix"
      ],
      "metadata": {
        "id": "Ko-Am8fzY7xv"
      },
      "execution_count": null,
      "outputs": []
    },
    {
      "cell_type": "code",
      "source": [
        "print(confusion_matrix(y_test,y_pred))"
      ],
      "metadata": {
        "colab": {
          "base_uri": "https://localhost:8080/"
        },
        "id": "eiJnNHfQZLzX",
        "outputId": "afc85beb-7fab-4387-c2bf-1098c6979949"
      },
      "execution_count": null,
      "outputs": [
        {
          "output_type": "stream",
          "name": "stdout",
          "text": [
            "[[18360  1104]\n",
            " [ 3881  1655]]\n"
          ]
        }
      ]
    },
    {
      "cell_type": "code",
      "source": [
        "print(classification_report(y_test,y_pred))"
      ],
      "metadata": {
        "colab": {
          "base_uri": "https://localhost:8080/"
        },
        "id": "7rARgmYLZWQW",
        "outputId": "b447dae9-9b41-4e11-c7ab-787a491aa466"
      },
      "execution_count": null,
      "outputs": [
        {
          "output_type": "stream",
          "name": "stdout",
          "text": [
            "              precision    recall  f1-score   support\n",
            "\n",
            "           0       0.83      0.94      0.88     19464\n",
            "           1       0.60      0.30      0.40      5536\n",
            "\n",
            "    accuracy                           0.80     25000\n",
            "   macro avg       0.71      0.62      0.64     25000\n",
            "weighted avg       0.78      0.80      0.77     25000\n",
            "\n"
          ]
        }
      ]
    }
  ]
}