{
  "metadata": {
    "kernelspec": {
      "language": "python",
      "display_name": "Python 3",
      "name": "python3"
    },
    "language_info": {
      "name": "python",
      "version": "3.7.12",
      "mimetype": "text/x-python",
      "codemirror_mode": {
        "name": "ipython",
        "version": 3
      },
      "pygments_lexer": "ipython3",
      "nbconvert_exporter": "python",
      "file_extension": ".py"
    },
    "colab": {
      "provenance": []
    }
  },
  "nbformat_minor": 0,
  "nbformat": 4,
  "cells": [
    {
      "cell_type": "code",
      "source": [
        "# This Python 3 environment comes with many helpful analytics libraries installed\n",
        "# It is defined by the kaggle/python Docker image: https://github.com/kaggle/docker-python\n",
        "# For example, here's several helpful packages to load\n",
        "\n",
        "import numpy as np # linear algebra\n",
        "import pandas as pd # data processing, CSV file I/O (e.g. pd.read_csv)\n",
        "\n",
        "# Input data files are available in the read-only \"../input/\" directory\n",
        "# For example, running this (by clicking run or pressing Shift+Enter) will list all files under the input directory\n",
        "\n",
        "import os\n",
        "for dirname, _, filenames in os.walk('/kaggle/input'):\n",
        "    for filename in filenames:\n",
        "        print(os.path.join(dirname, filename))\n",
        "\n",
        "# You can write up to 20GB to the current directory (/kaggle/working/) that gets preserved as output when you create a version using \"Save & Run All\" \n",
        "# You can also write temporary files to /kaggle/temp/, but they won't be saved outside of the current session"
      ],
      "metadata": {
        "_cell_guid": "b1076dfc-b9ad-4769-8c92-a6c4dae69d19",
        "_uuid": "8f2839f25d086af736a60e9eeb907d3b93b6e0e5",
        "papermill": {
          "duration": 0.036235,
          "end_time": "2023-03-04T17:23:06.171598",
          "exception": false,
          "start_time": "2023-03-04T17:23:06.135363",
          "status": "completed"
        },
        "tags": [],
        "execution": {
          "iopub.status.busy": "2023-04-14T09:43:49.075735Z",
          "iopub.execute_input": "2023-04-14T09:43:49.076426Z",
          "iopub.status.idle": "2023-04-14T09:43:49.083871Z",
          "shell.execute_reply.started": "2023-04-14T09:43:49.076387Z",
          "shell.execute_reply": "2023-04-14T09:43:49.082879Z"
        },
        "trusted": true,
        "id": "0OebzSZVTy8t"
      },
      "execution_count": null,
      "outputs": []
    },
    {
      "cell_type": "code",
      "source": [
        "import numpy as np\n",
        "import pandas as pd\n",
        "import seaborn as sns\n",
        "import matplotlib.pyplot as plt\n",
        "import warnings\n",
        "warnings.filterwarnings('ignore')\n",
        "%matplotlib inline\n",
        "from sklearn.impute import SimpleImputer\n",
        "from sklearn.metrics import mean_squared_error,accuracy_score,confusion_matrix,classification_report"
      ],
      "metadata": {
        "papermill": {
          "duration": 1.430513,
          "end_time": "2023-03-04T17:23:07.615900",
          "exception": false,
          "start_time": "2023-03-04T17:23:06.185387",
          "status": "completed"
        },
        "tags": [],
        "execution": {
          "iopub.status.busy": "2023-04-14T09:43:49.089080Z",
          "iopub.execute_input": "2023-04-14T09:43:49.089746Z",
          "iopub.status.idle": "2023-04-14T09:43:49.099491Z",
          "shell.execute_reply.started": "2023-04-14T09:43:49.089706Z",
          "shell.execute_reply": "2023-04-14T09:43:49.098180Z"
        },
        "trusted": true,
        "id": "6K1GUN_hTy8z"
      },
      "execution_count": null,
      "outputs": []
    },
    {
      "cell_type": "code",
      "source": [
        "train=pd.read_csv(\"/kaggle/input/e-commerce-shoppers-behaviour-understanding/train_data_v2.csv\")\n",
        "test=pd.read_csv(\"/kaggle/input/e-commerce-shoppers-behaviour-understanding/test_data_v2.csv\")"
      ],
      "metadata": {
        "papermill": {
          "duration": 0.141193,
          "end_time": "2023-03-04T17:23:07.769958",
          "exception": false,
          "start_time": "2023-03-04T17:23:07.628765",
          "status": "completed"
        },
        "tags": [],
        "execution": {
          "iopub.status.busy": "2023-04-14T09:43:49.105194Z",
          "iopub.execute_input": "2023-04-14T09:43:49.105600Z",
          "iopub.status.idle": "2023-04-14T09:43:49.172116Z",
          "shell.execute_reply.started": "2023-04-14T09:43:49.105562Z",
          "shell.execute_reply": "2023-04-14T09:43:49.170722Z"
        },
        "trusted": true,
        "id": "pQ-JtXySTy80"
      },
      "execution_count": null,
      "outputs": []
    },
    {
      "cell_type": "code",
      "source": [
        "train.shape,test.shape"
      ],
      "metadata": {
        "papermill": {
          "duration": 0.02427,
          "end_time": "2023-03-04T17:23:07.808204",
          "exception": false,
          "start_time": "2023-03-04T17:23:07.783934",
          "status": "completed"
        },
        "tags": [],
        "execution": {
          "iopub.status.busy": "2023-04-14T09:43:49.174169Z",
          "iopub.execute_input": "2023-04-14T09:43:49.174861Z",
          "iopub.status.idle": "2023-04-14T09:43:49.182576Z",
          "shell.execute_reply.started": "2023-04-14T09:43:49.174821Z",
          "shell.execute_reply": "2023-04-14T09:43:49.180849Z"
        },
        "trusted": true,
        "id": "H8OHVUddTy81"
      },
      "execution_count": null,
      "outputs": []
    },
    {
      "cell_type": "code",
      "source": [
        "train.info()"
      ],
      "metadata": {
        "papermill": {
          "duration": 0.049347,
          "end_time": "2023-03-04T17:23:07.870576",
          "exception": false,
          "start_time": "2023-03-04T17:23:07.821229",
          "status": "completed"
        },
        "tags": [],
        "execution": {
          "iopub.status.busy": "2023-04-14T09:43:49.183877Z",
          "iopub.execute_input": "2023-04-14T09:43:49.184255Z",
          "iopub.status.idle": "2023-04-14T09:43:49.206678Z",
          "shell.execute_reply.started": "2023-04-14T09:43:49.184192Z",
          "shell.execute_reply": "2023-04-14T09:43:49.205218Z"
        },
        "trusted": true,
        "id": "N-fsrQTzTy82"
      },
      "execution_count": null,
      "outputs": []
    },
    {
      "cell_type": "code",
      "source": [
        "train.Made_Purchase.value_counts().plot(kind='bar')"
      ],
      "metadata": {
        "execution": {
          "iopub.status.busy": "2023-04-14T09:43:49.209233Z",
          "iopub.execute_input": "2023-04-14T09:43:49.209596Z",
          "iopub.status.idle": "2023-04-14T09:43:49.401339Z",
          "shell.execute_reply.started": "2023-04-14T09:43:49.209562Z",
          "shell.execute_reply": "2023-04-14T09:43:49.399496Z"
        },
        "trusted": true,
        "id": "2_Arxd_VTy83"
      },
      "execution_count": null,
      "outputs": []
    },
    {
      "cell_type": "code",
      "source": [
        "X_trainData=train.drop('Made_Purchase',axis=1)\n",
        "Y=train['Made_Purchase'].astype('int')"
      ],
      "metadata": {
        "papermill": {
          "duration": 0.024116,
          "end_time": "2023-03-04T17:23:07.908554",
          "exception": false,
          "start_time": "2023-03-04T17:23:07.884438",
          "status": "completed"
        },
        "tags": [],
        "execution": {
          "iopub.status.busy": "2023-04-14T09:43:49.403231Z",
          "iopub.execute_input": "2023-04-14T09:43:49.404189Z",
          "iopub.status.idle": "2023-04-14T09:43:49.413919Z",
          "shell.execute_reply.started": "2023-04-14T09:43:49.404139Z",
          "shell.execute_reply": "2023-04-14T09:43:49.412682Z"
        },
        "trusted": true,
        "id": "-0M_0jP8Ty83"
      },
      "execution_count": null,
      "outputs": []
    },
    {
      "cell_type": "code",
      "source": [
        "X_trainData.shape,test.shape"
      ],
      "metadata": {
        "papermill": {
          "duration": 0.023124,
          "end_time": "2023-03-04T17:23:07.944289",
          "exception": false,
          "start_time": "2023-03-04T17:23:07.921165",
          "status": "completed"
        },
        "tags": [],
        "execution": {
          "iopub.status.busy": "2023-04-14T09:43:49.415967Z",
          "iopub.execute_input": "2023-04-14T09:43:49.416989Z",
          "iopub.status.idle": "2023-04-14T09:43:49.427506Z",
          "shell.execute_reply.started": "2023-04-14T09:43:49.416938Z",
          "shell.execute_reply": "2023-04-14T09:43:49.425993Z"
        },
        "trusted": true,
        "id": "zx2arsxlTy84"
      },
      "execution_count": null,
      "outputs": []
    },
    {
      "cell_type": "code",
      "source": [
        "X_trainData.describe()"
      ],
      "metadata": {
        "execution": {
          "iopub.status.busy": "2023-04-14T09:43:49.432481Z",
          "iopub.execute_input": "2023-04-14T09:43:49.432886Z",
          "iopub.status.idle": "2023-04-14T09:43:49.500678Z",
          "shell.execute_reply.started": "2023-04-14T09:43:49.432850Z",
          "shell.execute_reply": "2023-04-14T09:43:49.499299Z"
        },
        "trusted": true,
        "id": "RiG2xYfvTy84"
      },
      "execution_count": null,
      "outputs": []
    },
    {
      "cell_type": "code",
      "source": [
        "X_trainData.isnull().sum()*100/len(X_trainData)"
      ],
      "metadata": {
        "papermill": {
          "duration": 0.030676,
          "end_time": "2023-03-04T17:23:07.987817",
          "exception": false,
          "start_time": "2023-03-04T17:23:07.957141",
          "status": "completed"
        },
        "tags": [],
        "execution": {
          "iopub.status.busy": "2023-04-14T09:43:49.502120Z",
          "iopub.execute_input": "2023-04-14T09:43:49.502587Z",
          "iopub.status.idle": "2023-04-14T09:43:49.518736Z",
          "shell.execute_reply.started": "2023-04-14T09:43:49.502539Z",
          "shell.execute_reply": "2023-04-14T09:43:49.517398Z"
        },
        "trusted": true,
        "id": "wSf5jWA5Ty85"
      },
      "execution_count": null,
      "outputs": []
    },
    {
      "cell_type": "code",
      "source": [
        "numeric_cols=X_trainData.select_dtypes(include=np.number).columns.tolist()\n",
        "categorical_cols=X_trainData.select_dtypes('object').columns.tolist()"
      ],
      "metadata": {
        "papermill": {
          "duration": 0.028974,
          "end_time": "2023-03-04T17:23:08.029948",
          "exception": false,
          "start_time": "2023-03-04T17:23:08.000974",
          "status": "completed"
        },
        "tags": [],
        "execution": {
          "iopub.status.busy": "2023-04-14T09:43:49.520530Z",
          "iopub.execute_input": "2023-04-14T09:43:49.520886Z",
          "iopub.status.idle": "2023-04-14T09:43:49.533971Z",
          "shell.execute_reply.started": "2023-04-14T09:43:49.520852Z",
          "shell.execute_reply": "2023-04-14T09:43:49.532769Z"
        },
        "trusted": true,
        "id": "Bz73jqt1Ty86"
      },
      "execution_count": null,
      "outputs": []
    },
    {
      "cell_type": "code",
      "source": [
        "numeric_cols"
      ],
      "metadata": {
        "papermill": {
          "duration": 0.02383,
          "end_time": "2023-03-04T17:23:08.066918",
          "exception": false,
          "start_time": "2023-03-04T17:23:08.043088",
          "status": "completed"
        },
        "tags": [],
        "execution": {
          "iopub.status.busy": "2023-04-14T09:43:49.535247Z",
          "iopub.execute_input": "2023-04-14T09:43:49.535612Z",
          "iopub.status.idle": "2023-04-14T09:43:49.547145Z",
          "shell.execute_reply.started": "2023-04-14T09:43:49.535573Z",
          "shell.execute_reply": "2023-04-14T09:43:49.545991Z"
        },
        "trusted": true,
        "id": "qz5xk4krTy86"
      },
      "execution_count": null,
      "outputs": []
    },
    {
      "cell_type": "code",
      "source": [
        "categorical_cols"
      ],
      "metadata": {
        "papermill": {
          "duration": 0.023725,
          "end_time": "2023-03-04T17:23:08.378739",
          "exception": false,
          "start_time": "2023-03-04T17:23:08.355014",
          "status": "completed"
        },
        "tags": [],
        "execution": {
          "iopub.status.busy": "2023-04-14T09:43:49.548624Z",
          "iopub.execute_input": "2023-04-14T09:43:49.549075Z",
          "iopub.status.idle": "2023-04-14T09:43:49.560532Z",
          "shell.execute_reply.started": "2023-04-14T09:43:49.549018Z",
          "shell.execute_reply": "2023-04-14T09:43:49.559188Z"
        },
        "trusted": true,
        "id": "JxVUouX3Ty87"
      },
      "execution_count": null,
      "outputs": []
    },
    {
      "cell_type": "code",
      "source": [
        "from sklearn.impute import KNNImputer\n",
        "imputer=KNNImputer(n_neighbors=10, missing_values=np.nan)\n",
        "imputer.fit(X_trainData[numeric_cols])\n",
        "X_trainData[numeric_cols]=imputer.transform(X_trainData[numeric_cols])\n",
        "test[numeric_cols]=imputer.transform(test[numeric_cols])"
      ],
      "metadata": {
        "papermill": {
          "duration": 0.038235,
          "end_time": "2023-03-04T17:23:08.469870",
          "exception": false,
          "start_time": "2023-03-04T17:23:08.431635",
          "status": "completed"
        },
        "tags": [],
        "execution": {
          "iopub.status.busy": "2023-04-14T09:43:49.562253Z",
          "iopub.execute_input": "2023-04-14T09:43:49.563380Z",
          "iopub.status.idle": "2023-04-14T09:43:52.366817Z",
          "shell.execute_reply.started": "2023-04-14T09:43:49.563330Z",
          "shell.execute_reply": "2023-04-14T09:43:52.365423Z"
        },
        "trusted": true,
        "id": "dyhXOsvqTy87"
      },
      "execution_count": null,
      "outputs": []
    },
    {
      "cell_type": "code",
      "source": [
        "sns.distplot(X_trainData['ProductDescriptionPage_Duration'])"
      ],
      "metadata": {
        "execution": {
          "iopub.status.busy": "2023-04-14T09:43:52.368180Z",
          "iopub.execute_input": "2023-04-14T09:43:52.368574Z",
          "iopub.status.idle": "2023-04-14T09:43:52.825711Z",
          "shell.execute_reply.started": "2023-04-14T09:43:52.368509Z",
          "shell.execute_reply": "2023-04-14T09:43:52.824279Z"
        },
        "trusted": true,
        "id": "w0PtMFcRTy87"
      },
      "execution_count": null,
      "outputs": []
    },
    {
      "cell_type": "code",
      "source": [
        "sns.distplot(X_trainData['HomePage'])"
      ],
      "metadata": {
        "execution": {
          "iopub.status.busy": "2023-04-14T09:43:52.827053Z",
          "iopub.execute_input": "2023-04-14T09:43:52.828137Z",
          "iopub.status.idle": "2023-04-14T09:43:53.262830Z",
          "shell.execute_reply.started": "2023-04-14T09:43:52.828085Z",
          "shell.execute_reply": "2023-04-14T09:43:53.261825Z"
        },
        "trusted": true,
        "id": "5D4UvoZTTy88"
      },
      "execution_count": null,
      "outputs": []
    },
    {
      "cell_type": "code",
      "source": [
        "X_trainData[categorical_cols].isnull().sum()"
      ],
      "metadata": {
        "execution": {
          "iopub.status.busy": "2023-04-14T09:43:53.268539Z",
          "iopub.execute_input": "2023-04-14T09:43:53.269867Z",
          "iopub.status.idle": "2023-04-14T09:43:53.285389Z",
          "shell.execute_reply.started": "2023-04-14T09:43:53.269822Z",
          "shell.execute_reply": "2023-04-14T09:43:53.284059Z"
        },
        "trusted": true,
        "id": "v0_TmFp6Ty88"
      },
      "execution_count": null,
      "outputs": []
    },
    {
      "cell_type": "code",
      "source": [
        "imputer_cg=SimpleImputer(missing_values=np.nan,strategy='most_frequent')\n",
        "imputer_cg.fit(X_trainData[categorical_cols])\n",
        "X_trainData[categorical_cols]=imputer_cg.transform(X_trainData[categorical_cols])\n",
        "test[categorical_cols]=imputer_cg.transform(test[categorical_cols])"
      ],
      "metadata": {
        "execution": {
          "iopub.status.busy": "2023-04-14T09:43:53.286771Z",
          "iopub.execute_input": "2023-04-14T09:43:53.287296Z",
          "iopub.status.idle": "2023-04-14T09:43:53.319231Z",
          "shell.execute_reply.started": "2023-04-14T09:43:53.287253Z",
          "shell.execute_reply": "2023-04-14T09:43:53.317752Z"
        },
        "trusted": true,
        "id": "hwphu0A6Ty88"
      },
      "execution_count": null,
      "outputs": []
    },
    {
      "cell_type": "code",
      "source": [
        "target=pd.Series(Y) \n",
        "data =  pd.concat([X_trainData,target],axis=1)\n"
      ],
      "metadata": {
        "execution": {
          "iopub.status.busy": "2023-04-14T09:43:53.320669Z",
          "iopub.execute_input": "2023-04-14T09:43:53.321003Z",
          "iopub.status.idle": "2023-04-14T09:43:53.330157Z",
          "shell.execute_reply.started": "2023-04-14T09:43:53.320971Z",
          "shell.execute_reply": "2023-04-14T09:43:53.328612Z"
        },
        "trusted": true,
        "id": "FOM8-9LzTy89"
      },
      "execution_count": null,
      "outputs": []
    },
    {
      "cell_type": "code",
      "source": [
        "# Co-relation matrix\n",
        "corr=data.corr()\n",
        "f,ax=plt.subplots(figsize=(21,11))\n",
        "cmap=sns.diverging_palette(220,10,as_cmap=True)\n",
        "heatmap=sns.heatmap(corr,cmap=cmap,center=0.0,vmax=1,linewidths=1,ax=ax,annot=True)\n",
        "plt.show()"
      ],
      "metadata": {
        "execution": {
          "iopub.status.busy": "2023-04-14T09:43:53.331822Z",
          "iopub.execute_input": "2023-04-14T09:43:53.332178Z",
          "iopub.status.idle": "2023-04-14T09:43:54.956007Z",
          "shell.execute_reply.started": "2023-04-14T09:43:53.332144Z",
          "shell.execute_reply": "2023-04-14T09:43:54.954739Z"
        },
        "trusted": true,
        "id": "U_xvlvFuTy89"
      },
      "execution_count": null,
      "outputs": []
    },
    {
      "cell_type": "code",
      "source": [
        "from sklearn.preprocessing import OneHotEncoder\n",
        "ohe=OneHotEncoder(drop='first')\n",
        "ohe.fit(X_trainData[categorical_cols])\n",
        "train_data=ohe.transform(X_trainData[categorical_cols]).toarray()\n",
        "test_data=ohe.transform(test[categorical_cols]).toarray()"
      ],
      "metadata": {
        "execution": {
          "iopub.status.busy": "2023-04-14T09:43:54.957830Z",
          "iopub.execute_input": "2023-04-14T09:43:54.958625Z",
          "iopub.status.idle": "2023-04-14T09:43:55.026968Z",
          "shell.execute_reply.started": "2023-04-14T09:43:54.958574Z",
          "shell.execute_reply": "2023-04-14T09:43:55.025739Z"
        },
        "trusted": true,
        "id": "5Z_0mMtlTy89"
      },
      "execution_count": null,
      "outputs": []
    },
    {
      "cell_type": "code",
      "source": [
        "feature_names = ohe.get_feature_names(categorical_cols)\n",
        "train_df = pd.concat([X_trainData[numeric_cols], \n",
        "               pd.DataFrame(data=train_data,columns=feature_names).astype(int)], axis=1)\n",
        "test_df = pd.concat([test[numeric_cols], \n",
        "               pd.DataFrame(data=test_data,columns=feature_names).astype(int)], axis=1)"
      ],
      "metadata": {
        "execution": {
          "iopub.status.busy": "2023-04-14T09:43:55.028320Z",
          "iopub.execute_input": "2023-04-14T09:43:55.028711Z",
          "iopub.status.idle": "2023-04-14T09:43:55.042669Z",
          "shell.execute_reply.started": "2023-04-14T09:43:55.028673Z",
          "shell.execute_reply": "2023-04-14T09:43:55.041419Z"
        },
        "trusted": true,
        "id": "ucpBErhnTy8-"
      },
      "execution_count": null,
      "outputs": []
    },
    {
      "cell_type": "code",
      "source": [
        "from sklearn.preprocessing import PowerTransformer\n",
        "scaler=PowerTransformer()\n",
        "scaler.fit(train_df[numeric_cols])\n",
        "train_df[numeric_cols]=scaler.transform(train_df[numeric_cols])\n",
        "test_df[numeric_cols]=scaler.transform(test_df[numeric_cols])"
      ],
      "metadata": {
        "execution": {
          "iopub.status.busy": "2023-04-14T09:43:55.044189Z",
          "iopub.execute_input": "2023-04-14T09:43:55.044808Z",
          "iopub.status.idle": "2023-04-14T09:43:55.299771Z",
          "shell.execute_reply.started": "2023-04-14T09:43:55.044769Z",
          "shell.execute_reply": "2023-04-14T09:43:55.298827Z"
        },
        "trusted": true,
        "id": "fcCzVBjrTy8-"
      },
      "execution_count": null,
      "outputs": []
    },
    {
      "cell_type": "code",
      "source": [
        "sns.scatterplot(data=data,y='GoogleMetric:Page Values',\n",
        "                      x='Made_Purchase',\n",
        "                      hue='Made_Purchase')"
      ],
      "metadata": {
        "execution": {
          "iopub.status.busy": "2023-04-14T09:43:55.301046Z",
          "iopub.execute_input": "2023-04-14T09:43:55.301868Z",
          "iopub.status.idle": "2023-04-14T09:43:56.321946Z",
          "shell.execute_reply.started": "2023-04-14T09:43:55.301827Z",
          "shell.execute_reply": "2023-04-14T09:43:56.320793Z"
        },
        "trusted": true,
        "id": "VgTsIHX7Ty8-"
      },
      "execution_count": null,
      "outputs": []
    },
    {
      "cell_type": "code",
      "source": [
        "sns.scatterplot(data=data,y='ProductDescriptionPage_Duration',\n",
        "                      x='Made_Purchase',\n",
        "                      hue='Made_Purchase')"
      ],
      "metadata": {
        "execution": {
          "iopub.status.busy": "2023-04-14T09:43:56.323392Z",
          "iopub.execute_input": "2023-04-14T09:43:56.323733Z",
          "iopub.status.idle": "2023-04-14T09:43:57.663537Z",
          "shell.execute_reply.started": "2023-04-14T09:43:56.323700Z",
          "shell.execute_reply": "2023-04-14T09:43:57.662376Z"
        },
        "trusted": true,
        "id": "5XojeeVhTy8_"
      },
      "execution_count": null,
      "outputs": []
    },
    {
      "cell_type": "code",
      "source": [
        "from sklearn.decomposition import PCA\n",
        "pca = PCA()\n",
        "pca.fit(train_df[numeric_cols])\n",
        "\n",
        "# plot the cumulative explained variance ratio\n",
        "import matplotlib.pyplot as plt\n",
        "plt.plot(np.cumsum(pca.explained_variance_ratio_))\n",
        "plt.xlabel('Number of Components')\n",
        "plt.ylabel('Cumulative Explained Variance Ratio')\n",
        "plt.show()\n",
        "\n",
        "n_components = np.argmax(np.cumsum(pca.explained_variance_ratio_) >= 0.99) + 1\n",
        "pca = PCA(n_components=n_components)\n",
        "\n"
      ],
      "metadata": {
        "execution": {
          "iopub.status.busy": "2023-04-14T09:43:57.664993Z",
          "iopub.execute_input": "2023-04-14T09:43:57.665366Z",
          "iopub.status.idle": "2023-04-14T09:43:57.908961Z",
          "shell.execute_reply.started": "2023-04-14T09:43:57.665332Z",
          "shell.execute_reply": "2023-04-14T09:43:57.907561Z"
        },
        "trusted": true,
        "id": "92gNZa2QTy8_"
      },
      "execution_count": null,
      "outputs": []
    },
    {
      "cell_type": "code",
      "source": [
        "# fit and transform the selected columns of train_df and test_df\n",
        "train_df_pca = pd.DataFrame(pca.fit_transform(train_df[numeric_cols]), columns=['PCA_' + str(i) for i in range(1, n_components+1)])\n",
        "test_df_pca = pd.DataFrame(pca.transform(test_df[numeric_cols]), columns=['PCA_' + str(i) for i in range(1, n_components+1)])\n",
        "\n",
        "# add the PCA columns to train_df and test_df\n",
        "train_df = pd.concat([train_df, train_df_pca], axis=1)\n",
        "test_df = pd.concat([test_df, test_df_pca], axis=1)\n",
        "\n",
        "# drop the original numeric columns\n",
        "train_df.drop(numeric_cols, axis=1, inplace=True)\n",
        "test_df.drop(numeric_cols, axis=1, inplace=True)"
      ],
      "metadata": {
        "execution": {
          "iopub.status.busy": "2023-04-14T09:43:57.910546Z",
          "iopub.execute_input": "2023-04-14T09:43:57.910874Z",
          "iopub.status.idle": "2023-04-14T09:43:57.947280Z",
          "shell.execute_reply.started": "2023-04-14T09:43:57.910843Z",
          "shell.execute_reply": "2023-04-14T09:43:57.945936Z"
        },
        "trusted": true,
        "id": "vgm0fjZATy8_"
      },
      "execution_count": null,
      "outputs": []
    },
    {
      "cell_type": "code",
      "source": [
        "X=train_df\n",
        "test=test_df"
      ],
      "metadata": {
        "execution": {
          "iopub.status.busy": "2023-04-14T09:43:57.949222Z",
          "iopub.execute_input": "2023-04-14T09:43:57.949722Z",
          "iopub.status.idle": "2023-04-14T09:43:57.956942Z",
          "shell.execute_reply.started": "2023-04-14T09:43:57.949672Z",
          "shell.execute_reply": "2023-04-14T09:43:57.955631Z"
        },
        "trusted": true,
        "id": "ymWChLHkTy9A"
      },
      "execution_count": null,
      "outputs": []
    },
    {
      "cell_type": "code",
      "source": [
        "from sklearn.preprocessing import LabelEncoder\n",
        "le=LabelEncoder()\n",
        "Y=le.fit_transform(Y)"
      ],
      "metadata": {
        "execution": {
          "iopub.status.busy": "2023-04-14T09:43:57.958584Z",
          "iopub.execute_input": "2023-04-14T09:43:57.959399Z",
          "iopub.status.idle": "2023-04-14T09:43:57.969736Z",
          "shell.execute_reply.started": "2023-04-14T09:43:57.959345Z",
          "shell.execute_reply": "2023-04-14T09:43:57.968380Z"
        },
        "trusted": true,
        "id": "2OynMiYrTy9A"
      },
      "execution_count": null,
      "outputs": []
    },
    {
      "cell_type": "code",
      "source": [
        "from sklearn.discriminant_analysis import LinearDiscriminantAnalysis as LDA\n",
        "from sklearn.model_selection import cross_val_score\n",
        "from sklearn.utils import shuffle\n",
        "\n",
        "# shuffle the training data\n",
        "X,Y = shuffle(X,Y, random_state=0)\n",
        "\n",
        "# create an LDA object\n",
        "model = LDA()\n",
        "\n",
        "# fit the LDA model on the training data\n",
        "model.fit(X,Y)\n",
        "\n",
        "# perform 5-fold cross-validation on the training data\n",
        "scores = cross_val_score(model,X,Y, cv=5)\n",
        "\n",
        "# print the mean cross-validation score\n",
        "print('Cross-validation scores:', scores)\n",
        "print('Mean cross-validation score:', scores.mean())"
      ],
      "metadata": {
        "id": "PI7ivanATy9A"
      },
      "execution_count": null,
      "outputs": []
    },
    {
      "cell_type": "code",
      "source": [
        "from sklearn.model_selection import train_test_split\n",
        "def classify(model):\n",
        "    x_train,x_test,y_train,y_test=train_test_split(X,Y,test_size=0.25,random_state=42)\n",
        "    model.fit(x_train,y_train)\n",
        "    test_pred=model.predict(x_test) \n",
        "    print('Accuracy:',accuracy_score(y_test,test_pred))\n",
        "    print('Mean Squared Error',mean_squared_error(y_test,test_pred))\n",
        "    print(confusion_matrix(y_test,test_pred))\n",
        "    print(classification_report(y_test,test_pred))"
      ],
      "metadata": {
        "execution": {
          "iopub.status.busy": "2023-04-14T09:43:57.971774Z",
          "iopub.execute_input": "2023-04-14T09:43:57.972620Z",
          "iopub.status.idle": "2023-04-14T09:43:57.982638Z",
          "shell.execute_reply.started": "2023-04-14T09:43:57.972566Z",
          "shell.execute_reply": "2023-04-14T09:43:57.981104Z"
        },
        "trusted": true,
        "id": "f70tTw0BTy9B"
      },
      "execution_count": null,
      "outputs": []
    },
    {
      "cell_type": "code",
      "source": [
        "from sklearn.linear_model import LogisticRegression\n",
        "model=LogisticRegression(solver='liblinear',penalty='l2', random_state=42)\n",
        "classify(model)"
      ],
      "metadata": {
        "execution": {
          "iopub.status.busy": "2023-04-14T09:43:57.985351Z",
          "iopub.execute_input": "2023-04-14T09:43:57.986489Z",
          "iopub.status.idle": "2023-04-14T09:43:58.141517Z",
          "shell.execute_reply.started": "2023-04-14T09:43:57.986431Z",
          "shell.execute_reply": "2023-04-14T09:43:58.140114Z"
        },
        "trusted": true,
        "id": "YIZPjrzATy9B"
      },
      "execution_count": null,
      "outputs": []
    },
    {
      "cell_type": "code",
      "source": [
        "from sklearn.tree import DecisionTreeClassifier\n",
        "model=DecisionTreeClassifier(criterion='gini', \n",
        "                             splitter='best', \n",
        "                             max_depth=5, \n",
        "                             min_samples_split=2, \n",
        "                             min_samples_leaf=1, \n",
        "                             min_weight_fraction_leaf=0.0, \n",
        "                             max_features=None, \n",
        "                             random_state=42, \n",
        "                             max_leaf_nodes=None, \n",
        "                             min_impurity_decrease=0.0)\n",
        "classify(model)"
      ],
      "metadata": {
        "papermill": {
          "duration": 0.262361,
          "end_time": "2023-03-04T17:23:12.005083",
          "exception": false,
          "start_time": "2023-03-04T17:23:11.742722",
          "status": "completed"
        },
        "tags": [],
        "execution": {
          "iopub.status.busy": "2023-04-14T09:43:58.143887Z",
          "iopub.execute_input": "2023-04-14T09:43:58.144893Z",
          "iopub.status.idle": "2023-04-14T09:43:58.309567Z",
          "shell.execute_reply.started": "2023-04-14T09:43:58.144840Z",
          "shell.execute_reply": "2023-04-14T09:43:58.308445Z"
        },
        "trusted": true,
        "id": "yD5pEboTTy9B"
      },
      "execution_count": null,
      "outputs": []
    },
    {
      "cell_type": "code",
      "source": [
        "from sklearn.ensemble import RandomForestClassifier\n",
        "model=RandomForestClassifier(n_estimators=200,\n",
        "                             criterion='gini',\n",
        "                             max_depth=5, \n",
        "                             min_samples_split=3, \n",
        "                             min_samples_leaf=6, \n",
        "                             min_weight_fraction_leaf=0.0, \n",
        "                             max_features='sqrt', \n",
        "                             max_leaf_nodes=None, \n",
        "                             min_impurity_decrease=0.0,\n",
        "                             random_state=42)\n",
        "classify(model)"
      ],
      "metadata": {
        "papermill": {
          "duration": 2.355696,
          "end_time": "2023-03-04T17:23:14.380617",
          "exception": false,
          "start_time": "2023-03-04T17:23:12.024921",
          "status": "completed"
        },
        "tags": [],
        "execution": {
          "iopub.status.busy": "2023-04-14T09:43:58.310819Z",
          "iopub.execute_input": "2023-04-14T09:43:58.311126Z",
          "iopub.status.idle": "2023-04-14T09:44:01.067811Z",
          "shell.execute_reply.started": "2023-04-14T09:43:58.311095Z",
          "shell.execute_reply": "2023-04-14T09:44:01.066521Z"
        },
        "trusted": true,
        "id": "vAs657stTy9C"
      },
      "execution_count": null,
      "outputs": []
    },
    {
      "cell_type": "code",
      "source": [
        "from sklearn.neighbors import KNeighborsClassifier\n",
        "knn=KNeighborsClassifier(n_neighbors=30,weights=\"uniform\",metric=\"euclidean\")\n",
        "classify(knn)"
      ],
      "metadata": {
        "execution": {
          "iopub.status.busy": "2023-04-14T09:44:01.069441Z",
          "iopub.execute_input": "2023-04-14T09:44:01.069903Z",
          "iopub.status.idle": "2023-04-14T09:44:02.005886Z",
          "shell.execute_reply.started": "2023-04-14T09:44:01.069855Z",
          "shell.execute_reply": "2023-04-14T09:44:02.004630Z"
        },
        "trusted": true,
        "id": "Y1-4hhjKTy9C"
      },
      "execution_count": null,
      "outputs": []
    },
    {
      "cell_type": "code",
      "source": [
        "from xgboost import XGBClassifier\n",
        "xgb=XGBClassifier(max_depth = 3,\n",
        "                              gamma = 0.5,\n",
        "                              n_estimators = 200,\n",
        "                              learning_rate = 0.1,\n",
        "                              min_child_weight = 7,\n",
        "                              subsample = 0.8,\n",
        "                              reg_lambda = 10,\n",
        "                              reg_alpha = 15,\n",
        "                              colsample_bytree = 0.7,\n",
        "                              colsample_bylevel = 0.7,\n",
        "                              colsample_bynode = 0.7,\n",
        "                              random_state = 42,\n",
        "                              objective=\"binary:logistic\")\n",
        "classify(xgb)"
      ],
      "metadata": {
        "execution": {
          "iopub.status.busy": "2023-04-14T09:44:02.007634Z",
          "iopub.execute_input": "2023-04-14T09:44:02.008112Z",
          "iopub.status.idle": "2023-04-14T09:44:03.659723Z",
          "shell.execute_reply.started": "2023-04-14T09:44:02.008061Z",
          "shell.execute_reply": "2023-04-14T09:44:03.658466Z"
        },
        "trusted": true,
        "id": "FAZxd1qITy9D"
      },
      "execution_count": null,
      "outputs": []
    },
    {
      "cell_type": "code",
      "source": [
        "from sklearn.ensemble import VotingClassifier\n",
        "clf1=KNeighborsClassifier(n_neighbors=50)\n",
        "clf3=LogisticRegression(solver='liblinear',penalty='l2', random_state=0)\n",
        "eclf1 = VotingClassifier(estimators=[('knn', clf1),('lg',clf3)], voting='soft')\n",
        "classify(eclf1)"
      ],
      "metadata": {
        "execution": {
          "iopub.status.busy": "2023-04-14T09:44:03.661157Z",
          "iopub.execute_input": "2023-04-14T09:44:03.662185Z",
          "iopub.status.idle": "2023-04-14T09:44:04.636343Z",
          "shell.execute_reply.started": "2023-04-14T09:44:03.662145Z",
          "shell.execute_reply": "2023-04-14T09:44:04.634949Z"
        },
        "trusted": true,
        "id": "K65OD-DBTy9D"
      },
      "execution_count": null,
      "outputs": []
    },
    {
      "cell_type": "code",
      "source": [
        "clf1=KNeighborsClassifier(n_neighbors=50)\n",
        "clf2=LogisticRegression(solver='liblinear',penalty='l2', random_state=0)\n",
        "model = VotingClassifier(estimators=[('knn', clf1),('lg',clf2)], voting='soft')\n",
        "model.fit(X,Y)"
      ],
      "metadata": {
        "papermill": {
          "duration": 0.382425,
          "end_time": "2023-03-04T17:23:18.684511",
          "exception": false,
          "start_time": "2023-03-04T17:23:18.302086",
          "status": "completed"
        },
        "tags": [],
        "execution": {
          "iopub.status.busy": "2023-04-14T09:44:04.638360Z",
          "iopub.execute_input": "2023-04-14T09:44:04.639195Z",
          "iopub.status.idle": "2023-04-14T09:44:04.811992Z",
          "shell.execute_reply.started": "2023-04-14T09:44:04.639141Z",
          "shell.execute_reply": "2023-04-14T09:44:04.810772Z"
        },
        "trusted": true,
        "id": "4bEeuBbYTy9E"
      },
      "execution_count": null,
      "outputs": []
    },
    {
      "cell_type": "code",
      "source": [
        "pred=model.predict(test).astype(dtype=bool)\n",
        "pred"
      ],
      "metadata": {
        "papermill": {
          "duration": 0.071406,
          "end_time": "2023-03-04T17:23:18.806128",
          "exception": false,
          "start_time": "2023-03-04T17:23:18.734722",
          "status": "completed"
        },
        "tags": [],
        "execution": {
          "iopub.status.busy": "2023-04-14T09:44:04.813539Z",
          "iopub.execute_input": "2023-04-14T09:44:04.813911Z",
          "iopub.status.idle": "2023-04-14T09:44:06.717525Z",
          "shell.execute_reply.started": "2023-04-14T09:44:04.813875Z",
          "shell.execute_reply": "2023-04-14T09:44:06.716036Z"
        },
        "trusted": true,
        "id": "CjoOnLLlTy9E"
      },
      "execution_count": null,
      "outputs": []
    },
    {
      "cell_type": "code",
      "source": [
        "sample=pd.read_csv(\"/kaggle/input/e-commerce-shoppers-behaviour-understanding/sample.csv\")\n",
        "submission=pd.DataFrame(columns=['id', 'Made_Purchase'])"
      ],
      "metadata": {
        "papermill": {
          "duration": 0.07156,
          "end_time": "2023-03-04T17:23:18.929019",
          "exception": false,
          "start_time": "2023-03-04T17:23:18.857459",
          "status": "completed"
        },
        "tags": [],
        "execution": {
          "iopub.status.busy": "2023-04-14T09:44:06.719256Z",
          "iopub.execute_input": "2023-04-14T09:44:06.722527Z",
          "iopub.status.idle": "2023-04-14T09:44:06.736498Z",
          "shell.execute_reply.started": "2023-04-14T09:44:06.722473Z",
          "shell.execute_reply": "2023-04-14T09:44:06.734895Z"
        },
        "trusted": true,
        "id": "c2GlI4lyTy9G"
      },
      "execution_count": null,
      "outputs": []
    },
    {
      "cell_type": "code",
      "source": [
        "submission['id']=[i for i in range(len(pred))]\n",
        "submission[\"Made_Purchase\"]=pred"
      ],
      "metadata": {
        "papermill": {
          "duration": 0.034671,
          "end_time": "2023-03-04T17:23:18.983782",
          "exception": false,
          "start_time": "2023-03-04T17:23:18.949111",
          "status": "completed"
        },
        "tags": [],
        "execution": {
          "iopub.status.busy": "2023-04-14T09:44:06.738454Z",
          "iopub.execute_input": "2023-04-14T09:44:06.739193Z",
          "iopub.status.idle": "2023-04-14T09:44:06.757033Z",
          "shell.execute_reply.started": "2023-04-14T09:44:06.739144Z",
          "shell.execute_reply": "2023-04-14T09:44:06.755684Z"
        },
        "trusted": true,
        "id": "ahawiEpOTy9G"
      },
      "execution_count": null,
      "outputs": []
    },
    {
      "cell_type": "code",
      "source": [
        "submission.to_csv('submission.csv',index=False)"
      ],
      "metadata": {
        "papermill": {
          "duration": 0.040812,
          "end_time": "2023-03-04T17:23:19.044714",
          "exception": false,
          "start_time": "2023-03-04T17:23:19.003902",
          "status": "completed"
        },
        "tags": [],
        "execution": {
          "iopub.status.busy": "2023-04-14T09:44:06.765790Z",
          "iopub.execute_input": "2023-04-14T09:44:06.766810Z",
          "iopub.status.idle": "2023-04-14T09:44:06.789060Z",
          "shell.execute_reply.started": "2023-04-14T09:44:06.766755Z",
          "shell.execute_reply": "2023-04-14T09:44:06.787665Z"
        },
        "trusted": true,
        "id": "lAzcMnQMTy9G"
      },
      "execution_count": null,
      "outputs": []
    }
  ]
}