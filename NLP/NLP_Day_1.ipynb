{
  "nbformat": 4,
  "nbformat_minor": 0,
  "metadata": {
    "colab": {
      "provenance": [],
      "authorship_tag": "ABX9TyO7Zx6hFJZKxaWqfripYLkc",
      "include_colab_link": true
    },
    "kernelspec": {
      "name": "python3",
      "display_name": "Python 3"
    },
    "language_info": {
      "name": "python"
    }
  },
  "cells": [
    {
      "cell_type": "markdown",
      "metadata": {
        "id": "view-in-github",
        "colab_type": "text"
      },
      "source": [
        "<a href=\"https://colab.research.google.com/github/nisha0296/Python-Code/blob/main/NLP/NLP_Day_1.ipynb\" target=\"_parent\"><img src=\"https://colab.research.google.com/assets/colab-badge.svg\" alt=\"Open In Colab\"/></a>"
      ]
    },
    {
      "cell_type": "markdown",
      "source": [
        "##NLP Tutorials\n",
        "-- Common NLP Tasks\n",
        "\n",
        "1.   Text / Document Classification\n",
        "2.   Sentiment Analysis\n",
        "3.   Information Retrieval\n",
        "4.   Parts of speech tagging\n",
        "5.   Language Detection and machine translation\n",
        "6.   Conversational agents(siri,alexa)\n",
        "7.   Knowledge graph and Q&A System\n",
        "8.   Text summarization\n",
        "9.   Topic Modelling\n",
        "10.  Text Generation\n",
        "11.  Spell checking and Grammar correction\n",
        "12.  Text parsing\n",
        "13.  speech to text\n",
        "\n",
        "\n",
        "\n",
        "\n"
      ],
      "metadata": {
        "id": "-brkkKlEi31P"
      }
    },
    {
      "cell_type": "markdown",
      "source": [
        "-- Approaches to NLP Tasks\n",
        "\n",
        "\n",
        "1.   Heuristic methods\n",
        "2.   ML based models\n",
        "3.   Deep learning based models\n",
        "\n"
      ],
      "metadata": {
        "id": "c_tS_jLmlbHZ"
      }
    },
    {
      "cell_type": "markdown",
      "source": [
        "--Challenges in NLP\n",
        "\n",
        "1.   Ambiguity\n",
        "2.   Contextual words\n",
        "3.   colloquialism or slangs(eg. piece of cake)\n",
        "4.   Synonyms\n",
        "5.   Irony,sarcasm, tonal diff\n",
        "6.   Spelling errors\n",
        "7.   Creativity\n",
        "8.   Diversity\n",
        "\n",
        "\n",
        "\n"
      ],
      "metadata": {
        "id": "OzsQFDPNpl7n"
      }
    }
  ]
}