{
  "nbformat": 4,
  "nbformat_minor": 0,
  "metadata": {
    "colab": {
      "provenance": [],
      "authorship_tag": "ABX9TyPxtTdrZuxtnTnsHvEXG55B",
      "include_colab_link": true
    },
    "kernelspec": {
      "name": "python3",
      "display_name": "Python 3"
    },
    "language_info": {
      "name": "python"
    }
  },
  "cells": [
    {
      "cell_type": "markdown",
      "metadata": {
        "id": "view-in-github",
        "colab_type": "text"
      },
      "source": [
        "<a href=\"https://colab.research.google.com/github/nisha0296/Python-Code/blob/main/PythonPractice/Stack.ipynb\" target=\"_parent\"><img src=\"https://colab.research.google.com/assets/colab-badge.svg\" alt=\"Open In Colab\"/></a>"
      ]
    },
    {
      "cell_type": "code",
      "execution_count": 1,
      "metadata": {
        "id": "LTu-dtRZoN2M"
      },
      "outputs": [],
      "source": [
        "from collections import deque"
      ]
    },
    {
      "cell_type": "code",
      "source": [
        "class Stack:\n",
        "\n",
        "  def __init__(self):\n",
        "    self.container=deque()\n",
        "\n",
        "  def push(self,val):\n",
        "    self.container.append(val)\n",
        "\n",
        "  def pop(self):\n",
        "    return self.container.pop()\n",
        "\n",
        "  def peek(self):\n",
        "    return self.container[-1]\n",
        "\n",
        "  def is_empty(self):\n",
        "      return len(self.container) == 0\n",
        "\n",
        "  def size(self):\n",
        "      return len(self.container)\n",
        "\n",
        "def reverse_string(s):\n",
        "    stack = Stack()\n",
        "\n",
        "    for ch in s:\n",
        "      stack.push(ch)\n",
        "\n",
        "    rstr=''\n",
        "\n",
        "    while stack.size()!=0:\n",
        "      rstr += stack.pop()\n",
        "    return rstr\n",
        "\n",
        "def is_match(ch1, ch2):\n",
        "    match_dict = {\n",
        "        ')': '(',\n",
        "        ']': '[',\n",
        "        '}': '{'\n",
        "    }\n",
        "    return match_dict[ch1] == ch2\n",
        "\n",
        "\n",
        "def is_balanced(s):\n",
        "    stack = Stack()\n",
        "    for ch in s:\n",
        "      if ch=='(' or ch=='{' or ch == '[':\n",
        "          stack.push(ch)\n",
        "      if ch==')' or ch=='}' or ch == ']':\n",
        "          if stack.size()==0:\n",
        "              return False\n",
        "          if not is_match(ch,stack.pop()):\n",
        "              return False\n",
        "\n",
        "    return stack.size()==0\n",
        "\n",
        "if __name__ == '__main__':\n",
        "    print(reverse_string(\"We will conquere COVI-19\"))\n",
        "    print(reverse_string(\"I am the king\"))\n",
        "    print(is_balanced(\"({a+b})\"))\n",
        "    print(is_balanced(\"))((a+b}{\"))\n",
        "    print(is_balanced(\"((a+b))\"))\n",
        "    print(is_balanced(\"((a+g))\"))\n",
        "    print(is_balanced(\"))\"))\n",
        "    print(is_balanced(\"[a+b]*(x+2y)*{gg+kk}\"))\n",
        "\n",
        "\n",
        "\n",
        "\n",
        ""
      ],
      "metadata": {
        "colab": {
          "base_uri": "https://localhost:8080/"
        },
        "id": "pb1D5YY0oUy3",
        "outputId": "3feba044-2914-498e-a385-a199be11547e"
      },
      "execution_count": 11,
      "outputs": [
        {
          "output_type": "stream",
          "name": "stdout",
          "text": [
            "91-IVOC ereuqnoc lliw eW\n",
            "gnik eht ma I\n",
            "True\n",
            "False\n",
            "True\n",
            "True\n",
            "False\n",
            "True\n"
          ]
        }
      ]
    }
  ]
}